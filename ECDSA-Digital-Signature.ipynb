{
 "cells": [
  {
   "cell_type": "markdown",
   "id": "ddf4e2f4-a57d-4833-a254-167361333efb",
   "metadata": {},
   "source": [
    "# ECDSA - Elliptic Curve Digital Signature Algorithm"
   ]
  },
  {
   "cell_type": "markdown",
   "id": "4a488d08-7c25-4ee3-9f56-77d327766656",
   "metadata": {},
   "source": [
    "On this notebook you can find a brief introduction to ECDSA. How it works, and why it works!  \n",
    "\n",
    "If you want to know more about Digital Signatures, [check this out](https://cryptobook.nakov.com/digital-signatures/) !"
   ]
  },
  {
   "cell_type": "code",
   "execution_count": null,
   "id": "7105d5f7-e8d2-40b3-9844-805457d9cf23",
   "metadata": {},
   "outputs": [],
   "source": []
  },
  {
   "cell_type": "markdown",
   "id": "be97e535-1966-4814-8ca0-b4bece2984ab",
   "metadata": {},
   "source": [
    "### What's a Digital Signature Algorithm (DSA)?\n",
    "It is a cryptographic algorithm used to generate digital signatures, authenticate the sender of a digital message, and prevent message tampering.  \n",
    "DSA works by having two keys: a **private key** owned by the **sender** and a **public key** held by the **receiver**."
   ]
  },
  {
   "cell_type": "markdown",
   "id": "97c624e8-17ee-4ee1-8552-fc6f065a13ba",
   "metadata": {},
   "source": [
    "### Key Generation\n",
    "The ECDSA key-pair consists of:\n",
    "- private key: integer\n",
    "- public key: pubKey = privKey * G, where G is an elliptic curve point"
   ]
  },
  {
   "cell_type": "markdown",
   "id": "02c50107-488a-4247-b48a-9ff38889f1dd",
   "metadata": {},
   "source": [
    "### ECDSA Sign\n",
    "The ECDSA signing algorithm takes as input a message ***msg*** + a private key ***privKey*** and produces as output a **signature**, which consists of pair of integers **{r, s}**.  \n",
    "\n",
    "The ECDSA is based on the ElGamal Signature Scheme and works as follows:  \n",
    "**1.** Calculate the message hash, using a cryptographic hash function (we will use SHA-256): **h = hash(msg)**  \n",
    "**2.** Generate securely a random number **k** in the range [1..n-1], where n is the order of the curve  \n",
    "**3.** Calculate the random point **R = k * G** and take its x-coordinate: **r = R.x**  \n",
    "**4.** Calculate the signature proof: $$ s = k^{-1} * (h + r * privKey) \\mod n$$  \n",
    "**5.** Return the signature **{r,s}**"
   ]
  },
  {
   "cell_type": "code",
   "execution_count": null,
   "id": "d8469975-3fc0-4ed4-aad8-45d19cd1e369",
   "metadata": {},
   "outputs": [],
   "source": []
  },
  {
   "cell_type": "markdown",
   "id": "2bf7761d-5721-4a3d-a97a-8d1f233e68c5",
   "metadata": {},
   "source": [
    "### ECDSA Verify Signature\n",
    "The algorithm to verify a ECDSA signature takes as **input** the signed message **msg** + the signature **{r, s}** produced from the **signing** algorithm + the public key **pubKey**, corresponding to the **signer's private key**.  \n",
    "\n",
    "The ECDSA signature verify algorithm works as follows:  \n",
    "\n",
    "**1.** Calculate the message hash, with the same cryptographic hash function used during the signing: **h = hash(msg)**  \n",
    "**2.** Calculate the modular inverse of the signature proof: $$ s1 = s^{-1}(\\mod n) $$  \n",
    "**3.** Recover the random point used during the signing: $$ R' = (h*s1)*G + (r*s1) * pubKey$$  \n",
    "**4.** Take from R' its x-coordinate: $$ r' = R'.x $$  \n",
    "**5.** Calculate the signature validation result by comparing wether **r' == r**"
   ]
  },
  {
   "cell_type": "code",
   "execution_count": null,
   "id": "562577d9-f911-44cd-97cb-11c400f0eadb",
   "metadata": {},
   "outputs": [],
   "source": []
  },
  {
   "cell_type": "markdown",
   "id": "c7cf8ddc-1653-4739-abfd-82914261a0cf",
   "metadata": {},
   "source": [
    "### But... Does it really work?\n",
    "Well lets look at the Maths!"
   ]
  },
  {
   "cell_type": "markdown",
   "id": "e3871559-c903-4059-a3cb-e23f91dd57f7",
   "metadata": {},
   "source": [
    "The equation behind the recovering of the point **R'**, calculated during the **signature verification**, can be transformed by replacing the **pubKey** with **privKey * G** as follows:\n",
    "\n",
    "$$ R' = (h*s1)*G + (r*s1) * pubKey $$\n",
    "$$ \\equiv $$\n",
    "$$R' = (h*s1)*G + (r * s1) * privKey * G$$\n",
    "$$ \\equiv $$\n",
    "$$R' = (h + r* privKey) * s1 * G$$  \n",
    "\n",
    "If we take the number $ s = k^{-1} * (h + r * privKey) \\mod n $, calculated during the signing process, we can calculate $ s1 = s^{-1} \\mod n$ like this:  \n",
    "\n",
    "$$ s1 = s^{-1} \\mod n $$\n",
    "$$ \\equiv $$\n",
    "$$ s1 = (k^{-1} * (h + r * privKey))^{-1} \\mod n $$\n",
    "$$ \\equiv $$\n",
    "$$ s1 = k * (h + r * privKey)^{-1} \\mod n $$  \n",
    "\n",
    "Now, replace **s1** in the point **R'**:  \n",
    "\n",
    "$$ R' = (h + r * privKey) * s1 * G $$\n",
    "$$ \\equiv $$\n",
    "$$ R' =  (h + r * privKey) * k * (h + r * privKey)^{-1} \\mod n $$\n",
    "$$ \\equiv $$\n",
    "$$ s1 = k * G $$  \n",
    "\n",
    "In the end we get **k * G** which is the ***r*** value used to **Calculate the signature proof** in step 4 of ECDSA Sign shown above. "
   ]
  },
  {
   "cell_type": "markdown",
   "id": "665b43d5-9f86-4cd6-946a-4fa0f9a000e5",
   "metadata": {},
   "source": []
  },
  {
   "cell_type": "markdown",
   "id": "ff0fb684-5a3b-40cf-8c7a-a15b8b0b69da",
   "metadata": {},
   "source": [
    "## Lets get practical! "
   ]
  },
  {
   "cell_type": "code",
   "execution_count": 1,
   "id": "e371f120-fafd-4d78-a146-37e2bff99a29",
   "metadata": {},
   "outputs": [],
   "source": [
    "import hashlib"
   ]
  },
  {
   "cell_type": "code",
   "execution_count": null,
   "id": "9f10cdb6-b8fd-4861-8882-216c149dadf9",
   "metadata": {},
   "outputs": [],
   "source": [
    "# Create our Elliptic Curve\n",
    "E = EllipticCurve([-5, -1])\n",
    "G = E.an_element()\n",
    "n = 12345 # order of the curve (prime)\n",
    "\n",
    "# Generate keys\n",
    "privKey = 123\n",
    "pubKey = privKey * G\n",
    "\n",
    "\n",
    "def sign(msg, privKey): \n",
    "    # calculate msg hash\n",
    "    hash = hashlib.sha256(msg.encode('utf8')).digest()\n",
    "    # convert msg hash to integer\n",
    "    int_hash = int.from_bytes(hash)\n",
    "\n",
    "    k = randint(1, privKey-1)\n",
    "    R = k*G\n",
    "    Rx = R[0]\n",
    "    proof = (k^-1 * (int_hash + Rx * privKey)) % n\n",
    "    return (Rx, proof)\n",
    "\n",
    "def verify(msg, signature, pubKey):\n",
    "    # calculate msg hash\n",
    "    hash = hashlib.sha256(msg.encode('utf8')).digest()\n",
    "    # convert msg hash to integer\n",
    "    int_hash = int.from_bytes(hash)\n",
    "    s1 = power_mod(signature[1], -1, n)\n",
    "    print(s1)\n",
    "    Rlinha = (int_hash * s1)*G + (signature[0]*s1) * pubKey\n",
    "    return Rlinha[0]\n",
    "\n",
    "signature = sign(\"123\", privKey)\n",
    "R_verify = verify(\"123\", signature, pubKey)\n",
    "\n",
    "# Se a mensagem foi assinada com a privKey então o resultado tem de ser true\n",
    "signature[0] == R_verify"
   ]
  },
  {
   "cell_type": "code",
   "execution_count": null,
   "id": "2aec8e31-b51d-4452-bd96-9eae037cbe77",
   "metadata": {},
   "outputs": [],
   "source": []
  }
 ],
 "metadata": {
  "kernelspec": {
   "display_name": "SageMath 10.1",
   "language": "sage",
   "name": "sagemath"
  },
  "language_info": {
   "codemirror_mode": {
    "name": "ipython",
    "version": 3
   },
   "file_extension": ".py",
   "mimetype": "text/x-python",
   "name": "python",
   "nbconvert_exporter": "python",
   "pygments_lexer": "ipython3",
   "version": "3.11.5"
  }
 },
 "nbformat": 4,
 "nbformat_minor": 5
}
