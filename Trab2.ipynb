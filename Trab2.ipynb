{
 "cells": [
  {
   "cell_type": "markdown",
   "metadata": {},
   "source": [
    "# Trabalho Prático de Temas de Álgebra 2"
   ]
  },
  {
   "cell_type": "markdown",
   "metadata": {},
   "source": [
    "### Hugo Rocha, PG52250, MMC \n",
    "### Simão Quintela, PG52257, MMC  "
   ]
  },
  {
   "cell_type": "markdown",
   "metadata": {},
   "source": [
    "**Enunciado:**\n",
    "\n",
    "\n",
    "**Considere uma matriz A de característica máxima, 4x3, e b um vector 4x1, aleatórios. Assuma que car(A) < car[A|b], ou de forma equivalente, que det( [A|b] ) != 0.\n",
    "Use reflexões elementares ou rotações de Givens para encontrar uma base ortonormada do espaço das colunas de A.\n",
    "Usando a base ortonormada obtida, encontre a solução no sentido dos mínimos quadrados de Ax=b.**"
   ]
  },
  {
   "cell_type": "markdown",
   "metadata": {},
   "source": [
    "##### Selection of matrix A with maximum rank (4x3) and vector b (4x1) such that:\n",
    "\n",
    "$$det( [A|b] ) \\neq 0 $$"
   ]
  },
  {
   "cell_type": "code",
   "execution_count": 151,
   "metadata": {},
   "outputs": [
    {
     "name": "stdout",
     "output_type": "stream",
     "text": [
      "Matrix A:\n"
     ]
    },
    {
     "data": {
      "text/html": [
       "<html><script type=\"math/tex; mode=display\">\\newcommand{\\Bold}[1]{\\mathbf{#1}}\\left(\\begin{array}{rrr}\n",
       "-1 & 4 & 12 \\\\\n",
       "-27 & 1 & -1 \\\\\n",
       "-2 & 1 & 0 \\\\\n",
       "5 & -7 & 0\n",
       "\\end{array}\\right)</script></html>"
      ],
      "text/latex": [
       "$$\\newcommand{\\Bold}[1]{\\mathbf{#1}}\\left(\\begin{array}{rrr}\n",
       "-1 & 4 & 12 \\\\\n",
       "-27 & 1 & -1 \\\\\n",
       "-2 & 1 & 0 \\\\\n",
       "5 & -7 & 0\n",
       "\\end{array}\\right)$$"
      ],
      "text/plain": [
       "[ -1   4  12]\n",
       "[-27   1  -1]\n",
       "[ -2   1   0]\n",
       "[  5  -7   0]"
      ]
     },
     "metadata": {},
     "output_type": "display_data"
    },
    {
     "name": "stdout",
     "output_type": "stream",
     "text": [
      "rank(A) = 3\n",
      "\n",
      "Vector b:\n"
     ]
    },
    {
     "data": {
      "text/html": [
       "<html><script type=\"math/tex; mode=display\">\\newcommand{\\Bold}[1]{\\mathbf{#1}}\\left(\\begin{array}{r}\n",
       "-1 \\\\\n",
       "-1 \\\\\n",
       "-1 \\\\\n",
       "2\n",
       "\\end{array}\\right)</script></html>"
      ],
      "text/latex": [
       "$$\\newcommand{\\Bold}[1]{\\mathbf{#1}}\\left(\\begin{array}{r}\n",
       "-1 \\\\\n",
       "-1 \\\\\n",
       "-1 \\\\\n",
       "2\n",
       "\\end{array}\\right)$$"
      ],
      "text/plain": [
       "[-1]\n",
       "[-1]\n",
       "[-1]\n",
       "[ 2]"
      ]
     },
     "metadata": {},
     "output_type": "display_data"
    },
    {
     "name": "stdout",
     "output_type": "stream",
     "text": [
      "\n",
      "det([A|b]) = 1492\n"
     ]
    }
   ],
   "source": [
    "A = random_matrix(ZZ,4,3)\n",
    "b = random_matrix(ZZ,4,1)\n",
    "detAb = 0\n",
    "rankA = 0\n",
    "\n",
    "while (detAb == 0 or rankA != 3):\n",
    "    A = random_matrix(ZZ,4,3)\n",
    "    b = random_matrix(ZZ,4,1)\n",
    "    detAb = det(block_matrix(1,2,[A, b]))\n",
    "    rankA = A.rank()\n",
    "\n",
    "\n",
    "print(\"Matrix A:\")\n",
    "pretty_print(A)\n",
    "print(f\"rank(A) = {rankA}\")\n",
    "print(\"\\nVector b:\")\n",
    "pretty_print(b)\n",
    "print(f\"\\ndet([A|b]) = {detAb}\")\n"
   ]
  },
  {
   "cell_type": "markdown",
   "metadata": {},
   "source": [
    "##### QR factorization algorithm of a matrix using Givens Rotations:"
   ]
  },
  {
   "cell_type": "code",
   "execution_count": 152,
   "metadata": {},
   "outputs": [],
   "source": [
    "def copy(to_copy):\n",
    "    l = []\n",
    "    for line in to_copy:\n",
    "        l.append(list(line))\n",
    "    return matrix(l)\n",
    "\n",
    "\n",
    "def prod_matrix(L):\n",
    "    \n",
    "    result = L[0]\n",
    "    for i in range(1,len(L)):\n",
    "        result *= L[i]\n",
    "    return result\n",
    "    \n",
    "    \n",
    "def rot_givens_fact_QR(A):\n",
    "    n = A.nrows()\n",
    "    m = A.ncols()\n",
    "    R = copy(A)\n",
    "    In = identity_matrix(RR, n)\n",
    "    Plist = []\n",
    "    \n",
    "    \n",
    "    for i in range(0,m):\n",
    "        for j in range(i+1,n):\n",
    "            cos = R[i,i] / sqrt( (R[i,i]^2) + (R[j,i]^2) )\n",
    "            sin = R[j,i] / sqrt( (R[i,i]^2) + (R[j,i]^2) )\n",
    "            P = copy(In)\n",
    "            P[i,i] = P[j,j] = cos\n",
    "            P[j,i] = -sin\n",
    "            P[i,j] = sin\n",
    "            R = P*R\n",
    "            Plist.append(P.transpose())\n",
    "    \n",
    "    Q = prod_matrix(Plist)\n",
    "    \n",
    "    return Q, R"
   ]
  },
  {
   "cell_type": "code",
   "execution_count": 153,
   "metadata": {},
   "outputs": [],
   "source": [
    "Q, R = rot_givens_fact_QR(A)"
   ]
  },
  {
   "cell_type": "markdown",
   "metadata": {},
   "source": [
    "#####  Visualization of matrices Q and R using the previous algorithm:"
   ]
  },
  {
   "cell_type": "code",
   "execution_count": 154,
   "metadata": {},
   "outputs": [
    {
     "name": "stdout",
     "output_type": "stream",
     "text": [
      "Matrix Q:\n"
     ]
    },
    {
     "data": {
      "text/html": [
       "<html><script type=\"math/tex; mode=display\">\\newcommand{\\Bold}[1]{\\mathbf{#1}}\\left(\\begin{array}{rrrr}\n",
       "-0.0362977004320314 & 0.501055413965127 & 0.864644129681155 & 0.00405932106395537 \\\\\n",
       "-0.980037911664848 & -0.181818288692871 & 0.0639918510152765 & 0.0487118527674649 \\\\\n",
       "-0.0725954008640628 & 0.105174367554001 & -0.0593474334395407 & -0.990023303931348 \\\\\n",
       "0.181488502160157 & -0.839537929126878 & 0.494745848042908 & -0.132153452415437\n",
       "\\end{array}\\right)</script></html>"
      ],
      "text/latex": [
       "$$\\newcommand{\\Bold}[1]{\\mathbf{#1}}\\left(\\begin{array}{rrrr}\n",
       "-0.0362977004320314 & 0.501055413965127 & 0.864644129681155 & 0.00405932106395537 \\\\\n",
       "-0.980037911664848 & -0.181818288692871 & 0.0639918510152765 & 0.0487118527674649 \\\\\n",
       "-0.0725954008640628 & 0.105174367554001 & -0.0593474334395407 & -0.990023303931348 \\\\\n",
       "0.181488502160157 & -0.839537929126878 & 0.494745848042908 & -0.132153452415437\n",
       "\\end{array}\\right)$$"
      ],
      "text/plain": [
       "[-0.0362977004320314   0.501055413965127   0.864644129681155 0.00405932106395537]\n",
       "[ -0.980037911664848  -0.181818288692871  0.0639918510152765  0.0487118527674649]\n",
       "[-0.0725954008640628   0.105174367554001 -0.0593474334395407  -0.990023303931348]\n",
       "[  0.181488502160157  -0.839537929126878   0.494745848042908  -0.132153452415437]"
      ]
     },
     "metadata": {},
     "output_type": "display_data"
    },
    {
     "name": "stdout",
     "output_type": "stream",
     "text": [
      "\n",
      "Matrix R:\n"
     ]
    },
    {
     "data": {
      "text/html": [
       "<html><script type=\"math/tex; mode=display\">\\newcommand{\\Bold}[1]{\\mathbf{#1}}\\left(\\begin{array}{rrr}\n",
       "27.5499546279118 & -2.46824362937813 & 0.544465506480471 \\\\\n",
       "-2.59639561098177 \\times 10^{-17} & 7.80434323860978 & 6.19448325627439 \\\\\n",
       "1.47145973873341 \\times 10^{-17} & -2.86510762222211 \\times 10^{-17} & 10.3117377051586 \\\\\n",
       "2.20029907474346 \\times 10^{-16} & -1.07261677571194 \\times 10^{-16} & 0.000000000000000\n",
       "\\end{array}\\right)</script></html>"
      ],
      "text/latex": [
       "$$\\newcommand{\\Bold}[1]{\\mathbf{#1}}\\left(\\begin{array}{rrr}\n",
       "27.5499546279118 & -2.46824362937813 & 0.544465506480471 \\\\\n",
       "-2.59639561098177 \\times 10^{-17} & 7.80434323860978 & 6.19448325627439 \\\\\n",
       "1.47145973873341 \\times 10^{-17} & -2.86510762222211 \\times 10^{-17} & 10.3117377051586 \\\\\n",
       "2.20029907474346 \\times 10^{-16} & -1.07261677571194 \\times 10^{-16} & 0.000000000000000\n",
       "\\end{array}\\right)$$"
      ],
      "text/plain": [
       "[     27.5499546279118     -2.46824362937813     0.544465506480471]\n",
       "[-2.59639561098177e-17      7.80434323860978      6.19448325627439]\n",
       "[ 1.47145973873341e-17 -2.86510762222211e-17      10.3117377051586]\n",
       "[ 2.20029907474346e-16 -1.07261677571194e-16     0.000000000000000]"
      ]
     },
     "metadata": {},
     "output_type": "display_data"
    }
   ],
   "source": [
    "print(\"Matrix Q:\")\n",
    "pretty_print(Q)\n",
    "print(\"\\nMatrix R:\")\n",
    "pretty_print(R)\n"
   ]
  },
  {
   "cell_type": "markdown",
   "metadata": {},
   "source": [
    "**By obtaining the matrix Q, we have an orthonormed basis of the column space of A.**"
   ]
  },
  {
   "cell_type": "markdown",
   "metadata": {},
   "source": [
    "**We have:**\n",
    "\n",
    "$$ A = QR $$ \n",
    "\n",
    "**We want to calculate x such that:**\n",
    "\n",
    "$$ Ax = b $$\n",
    "\n",
    "**I.e.:** \n",
    "\n",
    "$$ QRx = b $$\n",
    "\n",
    "**Since Q is an orthogonal matrix, that is, its inverse is its transpose, when multiplying both sides of the equation, on the left, by the transpose of Q, we obtain:**\n",
    "\n",
    "$$ Rx = Q^T b $$"
   ]
  },
  {
   "cell_type": "markdown",
   "metadata": {},
   "source": [
    "**As R is an upper triangular matrix, solving this equation in order to x, it becomes relatively simple because it is equivalent to solving a system of linear equations by the process of substitution.**"
   ]
  },
  {
   "cell_type": "code",
   "execution_count": 155,
   "metadata": {},
   "outputs": [
    {
     "name": "stdout",
     "output_type": "stream",
     "text": [
      "Right side of the system (multiplying the transpose of Q by b):\n"
     ]
    },
    {
     "data": {
      "text/html": [
       "<html><script type=\"math/tex; mode=display\">\\newcommand{\\Bold}[1]{\\mathbf{#1}}\\left(\\begin{array}{r}\n",
       "1.45190801728126 \\\\\n",
       "-2.10348735108001 \\\\\n",
       "0.120203148828925 \\\\\n",
       "0.672945225269053\n",
       "\\end{array}\\right)</script></html>"
      ],
      "text/latex": [
       "$$\\newcommand{\\Bold}[1]{\\mathbf{#1}}\\left(\\begin{array}{r}\n",
       "1.45190801728126 \\\\\n",
       "-2.10348735108001 \\\\\n",
       "0.120203148828925 \\\\\n",
       "0.672945225269053\n",
       "\\end{array}\\right)$$"
      ],
      "text/plain": [
       "[ 1.45190801728126]\n",
       "[-2.10348735108001]\n",
       "[0.120203148828925]\n",
       "[0.672945225269053]"
      ]
     },
     "metadata": {},
     "output_type": "display_data"
    },
    {
     "name": "stdout",
     "output_type": "stream",
     "text": [
      "\n",
      "Complete System:\n"
     ]
    },
    {
     "data": {
      "text/html": [
       "<html><script type=\"math/tex; mode=display\">\\newcommand{\\Bold}[1]{\\mathbf{#1}}\\left(\\begin{array}{rrr}\n",
       "27.5499546279118 & -2.46824362937813 & 0.544465506480471 \\\\\n",
       "-2.59639561098177 \\times 10^{-17} & 7.80434323860978 & 6.19448325627439 \\\\\n",
       "1.47145973873341 \\times 10^{-17} & -2.86510762222211 \\times 10^{-17} & 10.3117377051586 \\\\\n",
       "2.20029907474346 \\times 10^{-16} & -1.07261677571194 \\times 10^{-16} & 0.000000000000000\n",
       "\\end{array}\\right) \\left(\\begin{array}{r}\n",
       "x_{1} \\\\\n",
       "x_{2} \\\\\n",
       "x_{3}\n",
       "\\end{array}\\right) \\left(\\begin{array}{r}\n",
       "1.45190801728126 \\\\\n",
       "-2.10348735108001 \\\\\n",
       "0.120203148828925 \\\\\n",
       "0.672945225269053\n",
       "\\end{array}\\right)</script></html>"
      ],
      "text/latex": [
       "$$\\newcommand{\\Bold}[1]{\\mathbf{#1}}\\left(\\begin{array}{rrr}\n",
       "27.5499546279118 & -2.46824362937813 & 0.544465506480471 \\\\\n",
       "-2.59639561098177 \\times 10^{-17} & 7.80434323860978 & 6.19448325627439 \\\\\n",
       "1.47145973873341 \\times 10^{-17} & -2.86510762222211 \\times 10^{-17} & 10.3117377051586 \\\\\n",
       "2.20029907474346 \\times 10^{-16} & -1.07261677571194 \\times 10^{-16} & 0.000000000000000\n",
       "\\end{array}\\right) \\left(\\begin{array}{r}\n",
       "x_{1} \\\\\n",
       "x_{2} \\\\\n",
       "x_{3}\n",
       "\\end{array}\\right) \\left(\\begin{array}{r}\n",
       "1.45190801728126 \\\\\n",
       "-2.10348735108001 \\\\\n",
       "0.120203148828925 \\\\\n",
       "0.672945225269053\n",
       "\\end{array}\\right)$$"
      ],
      "text/plain": [
       "[     27.5499546279118     -2.46824362937813     0.544465506480471]\n",
       "[-2.59639561098177e-17      7.80434323860978      6.19448325627439]\n",
       "[ 1.47145973873341e-17 -2.86510762222211e-17      10.3117377051586]\n",
       "[ 2.20029907474346e-16 -1.07261677571194e-16     0.000000000000000] [x1]\n",
       "[x2]\n",
       "[x3] [ 1.45190801728126]\n",
       "[-2.10348735108001]\n",
       "[0.120203148828925]\n",
       "[0.672945225269053]"
      ]
     },
     "metadata": {},
     "output_type": "display_data"
    }
   ],
   "source": [
    "right_side =  (Q.transpose())*b\n",
    "\n",
    "var('x1', 'x2', 'x3')\n",
    "x = matrix([[x1], [x2], [x3]])\n",
    "\n",
    "\n",
    "\n",
    "print(\"Right side of the system (multiplying the transpose of Q by b):\")\n",
    "pretty_print(right_side)\n",
    "print(\"\\nComplete System:\")\n",
    "pretty_print(R, x, right_side)\n"
   ]
  },
  {
   "cell_type": "markdown",
   "metadata": {},
   "source": [
    "**As the last row of the matrix R is composed only of zeros and the last value of the vector resulting from the multiplication**\n",
    "\n",
    "$$ Q^Tb $$ \n",
    "\n",
    "**is different from 0, the system is impossible. However, it is possible to calculate an approximation using the substitution method for the remaining equations. This approximation aims to minimize the value of** \n",
    "\n",
    "$$\\| Ax - b \\|$$\n",
    "\n",
    "**and is called the \"least squares solution\".**"
   ]
  },
  {
   "cell_type": "markdown",
   "metadata": {},
   "source": [
    "##### Solving the remaining equations manually (a Python function could have been used directly):"
   ]
  },
  {
   "cell_type": "code",
   "execution_count": 156,
   "metadata": {},
   "outputs": [],
   "source": [
    "x3 = right_side[2,0]/R[2,2]\n",
    "x2 = (right_side[1,0] - R[1,2]*x3)/R[1,1]\n",
    "x1 = (right_side[0,0] - R[0,2]*x3 - R[0,1]*x2)/R[0,0]\n",
    "x = matrix([[x1],[x2],[x3]])"
   ]
  },
  {
   "cell_type": "markdown",
   "metadata": {},
   "source": [
    "##### Visualization of the approximate solution obtained:"
   ]
  },
  {
   "cell_type": "code",
   "execution_count": 157,
   "metadata": {},
   "outputs": [
    {
     "name": "stdout",
     "output_type": "stream",
     "text": [
      "Approximate solution:\n"
     ]
    },
    {
     "data": {
      "text/html": [
       "<html><script type=\"math/tex; mode=display\">\\newcommand{\\Bold}[1]{\\mathbf{#1}}\\left(\\begin{array}{r}\n",
       "0.0274941975771515 \\\\\n",
       "-0.278780149560005 \\\\\n",
       "0.0116569245907789\n",
       "\\end{array}\\right)</script></html>"
      ],
      "text/latex": [
       "$$\\newcommand{\\Bold}[1]{\\mathbf{#1}}\\left(\\begin{array}{r}\n",
       "0.0274941975771515 \\\\\n",
       "-0.278780149560005 \\\\\n",
       "0.0116569245907789\n",
       "\\end{array}\\right)$$"
      ],
      "text/plain": [
       "[0.0274941975771515]\n",
       "[-0.278780149560005]\n",
       "[0.0116569245907789]"
      ]
     },
     "metadata": {},
     "output_type": "display_data"
    }
   ],
   "source": [
    "print(\"Approximate solution:\")\n",
    "pretty_print(x)"
   ]
  },
  {
   "cell_type": "markdown",
   "metadata": {},
   "source": [
    "##### Comparing the results of Ax and b: "
   ]
  },
  {
   "cell_type": "code",
   "execution_count": 158,
   "metadata": {},
   "outputs": [
    {
     "name": "stdout",
     "output_type": "stream",
     "text": [
      "Result of Ax and b:\n"
     ]
    },
    {
     "data": {
      "text/html": [
       "<html><script type=\"math/tex; mode=display\">\\newcommand{\\Bold}[1]{\\mathbf{#1}}\\left(\\begin{array}{r}\n",
       "-1.00273170072782 \\\\\n",
       "-1.03278040873387 \\\\\n",
       "-0.333768544714308 \\\\\n",
       "2.08893203480579\n",
       "\\end{array}\\right) \\left(\\begin{array}{r}\n",
       "-1 \\\\\n",
       "-1 \\\\\n",
       "-1 \\\\\n",
       "2\n",
       "\\end{array}\\right)</script></html>"
      ],
      "text/latex": [
       "$$\\newcommand{\\Bold}[1]{\\mathbf{#1}}\\left(\\begin{array}{r}\n",
       "-1.00273170072782 \\\\\n",
       "-1.03278040873387 \\\\\n",
       "-0.333768544714308 \\\\\n",
       "2.08893203480579\n",
       "\\end{array}\\right) \\left(\\begin{array}{r}\n",
       "-1 \\\\\n",
       "-1 \\\\\n",
       "-1 \\\\\n",
       "2\n",
       "\\end{array}\\right)$$"
      ],
      "text/plain": [
       "[ -1.00273170072782]\n",
       "[ -1.03278040873387]\n",
       "[-0.333768544714308]\n",
       "[  2.08893203480579] [-1]\n",
       "[-1]\n",
       "[-1]\n",
       "[ 2]"
      ]
     },
     "metadata": {},
     "output_type": "display_data"
    }
   ],
   "source": [
    "print(\"Result of Ax and b:\")\n",
    "pretty_print(A*x, b)"
   ]
  },
  {
   "cell_type": "markdown",
   "metadata": {},
   "source": [
    "###### Visualization of the value of |Ax - b|:"
   ]
  },
  {
   "cell_type": "code",
   "execution_count": 159,
   "metadata": {},
   "outputs": [
    {
     "name": "stdout",
     "output_type": "stream",
     "text": [
      "Value of ||Ax - b||:\n"
     ]
    },
    {
     "data": {
      "text/html": [
       "<html><script type=\"math/tex; mode=display\">\\newcommand{\\Bold}[1]{\\mathbf{#1}}0.6729452252690526</script></html>"
      ],
      "text/latex": [
       "$$\\newcommand{\\Bold}[1]{\\mathbf{#1}}0.6729452252690526$$"
      ],
      "text/plain": [
       "0.6729452252690526"
      ]
     },
     "metadata": {},
     "output_type": "display_data"
    }
   ],
   "source": [
    "import numpy as np\n",
    "\n",
    "print(\"Value of ||Ax - b||:\")\n",
    "pretty_print(np.linalg.norm(A*x - b))"
   ]
  },
  {
   "cell_type": "markdown",
   "metadata": {},
   "source": [
    "##### Comparing our solution with the solution that can be obtained directly with a function in Python:"
   ]
  },
  {
   "cell_type": "code",
   "execution_count": 160,
   "metadata": {},
   "outputs": [
    {
     "name": "stdout",
     "output_type": "stream",
     "text": [
      "Python's approximate solution:\n"
     ]
    },
    {
     "data": {
      "text/html": [
       "<html><script type=\"math/tex; mode=display\">\\newcommand{\\Bold}[1]{\\mathbf{#1}}\\left(\\begin{array}{r}\n",
       "0.02749419757715152 \\\\\n",
       "-0.27878014956000463 \\\\\n",
       "0.011656924590779001\n",
       "\\end{array}\\right)</script></html>"
      ],
      "text/latex": [
       "$$\\newcommand{\\Bold}[1]{\\mathbf{#1}}\\left(\\begin{array}{r}\n",
       "0.02749419757715152 \\\\\n",
       "-0.27878014956000463 \\\\\n",
       "0.011656924590779001\n",
       "\\end{array}\\right)$$"
      ],
      "text/plain": [
       "[ 0.02749419757715152]\n",
       "[-0.27878014956000463]\n",
       "[0.011656924590779001]"
      ]
     },
     "metadata": {},
     "output_type": "display_data"
    }
   ],
   "source": [
    "print(\"Python's approximate solution:\")\n",
    "py_x = np.linalg.lstsq(A, b, rcond=None)[0]\n",
    "pretty_print(matrix(py_x))"
   ]
  },
  {
   "cell_type": "markdown",
   "metadata": {},
   "source": [
    "**As we can see our solution is the same as this one so it seems to be correct.**"
   ]
  }
 ],
 "metadata": {
  "kernelspec": {
   "display_name": "SageMath 9.3",
   "language": "sage",
   "name": "sagemath"
  },
  "language_info": {
   "codemirror_mode": {
    "name": "ipython",
    "version": 3
   },
   "file_extension": ".py",
   "mimetype": "text/x-python",
   "name": "python",
   "nbconvert_exporter": "python",
   "pygments_lexer": "ipython3",
   "version": "3.7.10"
  }
 },
 "nbformat": 4,
 "nbformat_minor": 4
}
