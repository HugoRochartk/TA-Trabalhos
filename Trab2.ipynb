{
 "cells": [
  {
   "cell_type": "markdown",
   "metadata": {},
   "source": [
    "**Seleção da matriz A de característima máximo (4x3) e do vetor b (4x1) tais que:**\n",
    "\n",
    "$$det( [A|b] ) \\neq 0 $$"
   ]
  },
  {
   "cell_type": "code",
   "execution_count": 468,
   "metadata": {},
   "outputs": [
    {
     "name": "stdout",
     "output_type": "stream",
     "text": [
      "Matriz A:\n"
     ]
    },
    {
     "data": {
      "text/html": [
       "<html><script type=\"math/tex; mode=display\">\\newcommand{\\Bold}[1]{\\mathbf{#1}}\\left(\\begin{array}{rrr}\n",
       "0 & 33 & 0 \\\\\n",
       "-1 & -1 & -2 \\\\\n",
       "-7 & 1 & 0 \\\\\n",
       "-1 & 1 & -5\n",
       "\\end{array}\\right)</script></html>"
      ],
      "text/latex": [
       "$$\\newcommand{\\Bold}[1]{\\mathbf{#1}}\\left(\\begin{array}{rrr}\n",
       "0 & 33 & 0 \\\\\n",
       "-1 & -1 & -2 \\\\\n",
       "-7 & 1 & 0 \\\\\n",
       "-1 & 1 & -5\n",
       "\\end{array}\\right)$$"
      ],
      "text/plain": [
       "[ 0 33  0]\n",
       "[-1 -1 -2]\n",
       "[-7  1  0]\n",
       "[-1  1 -5]"
      ]
     },
     "metadata": {},
     "output_type": "display_data"
    },
    {
     "name": "stdout",
     "output_type": "stream",
     "text": [
      "car(A) = 3\n",
      "\n",
      "Vetor b:\n"
     ]
    },
    {
     "data": {
      "text/html": [
       "<html><script type=\"math/tex; mode=display\">\\newcommand{\\Bold}[1]{\\mathbf{#1}}\\left(\\begin{array}{r}\n",
       "0 \\\\\n",
       "-4 \\\\\n",
       "-10 \\\\\n",
       "-13\n",
       "\\end{array}\\right)</script></html>"
      ],
      "text/latex": [
       "$$\\newcommand{\\Bold}[1]{\\mathbf{#1}}\\left(\\begin{array}{r}\n",
       "0 \\\\\n",
       "-4 \\\\\n",
       "-10 \\\\\n",
       "-13\n",
       "\\end{array}\\right)$$"
      ],
      "text/plain": [
       "[  0]\n",
       "[ -4]\n",
       "[-10]\n",
       "[-13]"
      ]
     },
     "metadata": {},
     "output_type": "display_data"
    },
    {
     "name": "stdout",
     "output_type": "stream",
     "text": [
      "\n",
      "det([A|b]) = -2376\n"
     ]
    }
   ],
   "source": [
    "A = random_matrix(ZZ,4,3)\n",
    "b = random_matrix(ZZ,4,1)\n",
    "detAb = 0\n",
    "rankA = 0\n",
    "\n",
    "while (detAb == 0 or rankA != 3):\n",
    "    A = random_matrix(ZZ,4,3)\n",
    "    b = random_matrix(ZZ,4,1)\n",
    "    detAb = det(block_matrix(1,2,[A, b]))\n",
    "    rankA = A.rank()\n",
    "\n",
    "\n",
    "print(\"Matriz A:\")\n",
    "pretty_print(A)\n",
    "print(f\"car(A) = {rankA}\")\n",
    "print(\"\\nVetor b:\")\n",
    "pretty_print(b)\n",
    "print(f\"\\ndet([A|b]) = {detAb}\")\n"
   ]
  },
  {
   "cell_type": "markdown",
   "metadata": {},
   "source": [
    "**Algoritmo de fatorização QR de uma matriz usando Rotações de Givens**"
   ]
  },
  {
   "cell_type": "code",
   "execution_count": 469,
   "metadata": {},
   "outputs": [],
   "source": [
    "def copy(to_copy):\n",
    "    l = []\n",
    "    for line in to_copy:\n",
    "        l.append(list(line))\n",
    "    return matrix(l)\n",
    "\n",
    "\n",
    "def prod_matrizes(L):\n",
    "    \n",
    "    result = L[0]\n",
    "    for i in range(1,len(L)):\n",
    "        result *= L[i]\n",
    "    return result\n",
    "    \n",
    "    \n",
    "def rot_givens_fact_QR(A):\n",
    "    n = A.nrows()\n",
    "    m = A.ncols()\n",
    "    R = copy(A)\n",
    "    In = identity_matrix(RR, n)\n",
    "    Plist = []\n",
    "    \n",
    "    \n",
    "    for i in range(0,m):\n",
    "        for j in range(i+1,n):\n",
    "            cos = R[i,i] / sqrt( (R[i,i]^2) + (R[j,i]^2) )\n",
    "            sin = R[j,i] / sqrt( (R[i,i]^2) + (R[j,i]^2) )\n",
    "            P = copy(In)\n",
    "            P[i,i] = P[j,j] = cos\n",
    "            P[j,i] = -sin\n",
    "            P[i,j] = sin\n",
    "            R = P*R\n",
    "            Plist.append(P.transpose())\n",
    "    \n",
    "    Q = prod_matrizes(Plist)\n",
    "    \n",
    "    return Q, R"
   ]
  },
  {
   "cell_type": "code",
   "execution_count": 470,
   "metadata": {},
   "outputs": [],
   "source": [
    "Q, R = rot_givens_fact_QR(A)"
   ]
  },
  {
   "cell_type": "code",
   "execution_count": 471,
   "metadata": {},
   "outputs": [
    {
     "name": "stdout",
     "output_type": "stream",
     "text": [
      "Matriz Q:\n"
     ]
    },
    {
     "data": {
      "text/html": [
       "<html><script type=\"math/tex; mode=display\">\\newcommand{\\Bold}[1]{\\mathbf{#1}}\\left(\\begin{array}{rrrr}\n",
       "0.000000000000000 & 0.999065033867892 & 0.0116488574479594 & -0.0416336669379928 \\\\\n",
       "-0.140028008402801 & -0.0344300487013296 & -0.352204834149885 & -0.924747794488108 \\\\\n",
       "-0.980196058819607 & 0.00118724305866654 & 0.181470327347072 & 0.0792640966704093 \\\\\n",
       "-0.140028008402801 & 0.0261193472906639 & -0.918087457279618 & 0.369899117795243\n",
       "\\end{array}\\right)</script></html>"
      ],
      "text/latex": [
       "$$\\newcommand{\\Bold}[1]{\\mathbf{#1}}\\left(\\begin{array}{rrrr}\n",
       "0.000000000000000 & 0.999065033867892 & 0.0116488574479594 & -0.0416336669379928 \\\\\n",
       "-0.140028008402801 & -0.0344300487013296 & -0.352204834149885 & -0.924747794488108 \\\\\n",
       "-0.980196058819607 & 0.00118724305866654 & 0.181470327347072 & 0.0792640966704093 \\\\\n",
       "-0.140028008402801 & 0.0261193472906639 & -0.918087457279618 & 0.369899117795243\n",
       "\\end{array}\\right)$$"
      ],
      "text/plain": [
       "[  0.000000000000000   0.999065033867892  0.0116488574479594 -0.0416336669379928]\n",
       "[ -0.140028008402801 -0.0344300487013296  -0.352204834149885  -0.924747794488108]\n",
       "[ -0.980196058819607 0.00118724305866654   0.181470327347072  0.0792640966704093]\n",
       "[ -0.140028008402801  0.0261193472906639  -0.918087457279618   0.369899117795243]"
      ]
     },
     "metadata": {},
     "output_type": "display_data"
    },
    {
     "name": "stdout",
     "output_type": "stream",
     "text": [
      "\n",
      "Matriz R:\n"
     ]
    },
    {
     "data": {
      "text/html": [
       "<html><script type=\"math/tex; mode=display\">\\newcommand{\\Bold}[1]{\\mathbf{#1}}\\left(\\begin{array}{rrr}\n",
       "7.14142842854285 & -0.980196058819607 & 0.980196058819607 \\\\\n",
       "-3.80272600099546 \\times 10^{-18} & 33.0308827566911 & -0.0617366390506600 \\\\\n",
       "-4.15588427051745 \\times 10^{-17} & 1.99979999282469 \\times 10^{-17} & 5.29484695469786 \\\\\n",
       "-1.02880287285982 \\times 10^{-16} & -2.47446637114472 \\times 10^{-16} & 2.22044604925031 \\times 10^{-16}\n",
       "\\end{array}\\right)</script></html>"
      ],
      "text/latex": [
       "$$\\newcommand{\\Bold}[1]{\\mathbf{#1}}\\left(\\begin{array}{rrr}\n",
       "7.14142842854285 & -0.980196058819607 & 0.980196058819607 \\\\\n",
       "-3.80272600099546 \\times 10^{-18} & 33.0308827566911 & -0.0617366390506600 \\\\\n",
       "-4.15588427051745 \\times 10^{-17} & 1.99979999282469 \\times 10^{-17} & 5.29484695469786 \\\\\n",
       "-1.02880287285982 \\times 10^{-16} & -2.47446637114472 \\times 10^{-16} & 2.22044604925031 \\times 10^{-16}\n",
       "\\end{array}\\right)$$"
      ],
      "text/plain": [
       "[     7.14142842854285    -0.980196058819607     0.980196058819607]\n",
       "[-3.80272600099546e-18      33.0308827566911   -0.0617366390506600]\n",
       "[-4.15588427051745e-17  1.99979999282469e-17      5.29484695469786]\n",
       "[-1.02880287285982e-16 -2.47446637114472e-16  2.22044604925031e-16]"
      ]
     },
     "metadata": {},
     "output_type": "display_data"
    }
   ],
   "source": [
    "print(\"Matriz Q:\")\n",
    "pretty_print(Q)\n",
    "print(\"\\nMatriz R:\")\n",
    "pretty_print(R)\n"
   ]
  },
  {
   "cell_type": "markdown",
   "metadata": {},
   "source": [
    "**Sabemos que:**\n",
    "\n",
    "$$ A = QR $$ \n",
    "\n",
    "**E queremos calcular x tal que:**\n",
    "\n",
    "$$ Ax = b $$\n",
    "\n",
    "**Ou seja, tal que:** \n",
    "\n",
    "$$ QRx = b $$\n",
    "\n",
    "**Visto Q ser uma matriz ortogonal, isto é, a sua inversa é a sua transposta, ao multiplicar ambos os lados da equação, à esquerda, pela transposta de Q, obtém-se:**\n",
    "\n",
    "$$ Rx = Q^T b $$"
   ]
  },
  {
   "cell_type": "markdown",
   "metadata": {},
   "source": [
    "Como R é uma matriz triangular superior, resolver esta equação em ordem a x, torna-se relativamente simples ser equivalente a resolver um sistema de equações lineares pelo processo de substituição."
   ]
  },
  {
   "cell_type": "code",
   "execution_count": 472,
   "metadata": {},
   "outputs": [
    {
     "name": "stdout",
     "output_type": "stream",
     "text": [
      "Lado direito do sistema (multiplicação da transposta de Q por b):\n"
     ]
    },
    {
     "data": {
      "text/html": [
       "<html><script type=\"math/tex; mode=display\">\\newcommand{\\Bold}[1]{\\mathbf{#1}}\\left(\\begin{array}{r}\n",
       "12.1824367310437 \\\\\n",
       "-0.213703750559977 \\\\\n",
       "11.5292530077639 \\\\\n",
       "-1.90233832008982\n",
       "\\end{array}\\right)</script></html>"
      ],
      "text/latex": [
       "$$\\newcommand{\\Bold}[1]{\\mathbf{#1}}\\left(\\begin{array}{r}\n",
       "12.1824367310437 \\\\\n",
       "-0.213703750559977 \\\\\n",
       "11.5292530077639 \\\\\n",
       "-1.90233832008982\n",
       "\\end{array}\\right)$$"
      ],
      "text/plain": [
       "[  12.1824367310437]\n",
       "[-0.213703750559977]\n",
       "[  11.5292530077639]\n",
       "[ -1.90233832008982]"
      ]
     },
     "metadata": {},
     "output_type": "display_data"
    },
    {
     "name": "stdout",
     "output_type": "stream",
     "text": [
      "\n",
      "Sistema completo:\n"
     ]
    },
    {
     "data": {
      "text/html": [
       "<html><script type=\"math/tex; mode=display\">\\newcommand{\\Bold}[1]{\\mathbf{#1}}\\left(\\begin{array}{rrr}\n",
       "7.14142842854285 & -0.980196058819607 & 0.980196058819607 \\\\\n",
       "-3.80272600099546 \\times 10^{-18} & 33.0308827566911 & -0.0617366390506600 \\\\\n",
       "-4.15588427051745 \\times 10^{-17} & 1.99979999282469 \\times 10^{-17} & 5.29484695469786 \\\\\n",
       "-1.02880287285982 \\times 10^{-16} & -2.47446637114472 \\times 10^{-16} & 2.22044604925031 \\times 10^{-16}\n",
       "\\end{array}\\right) \\left(\\begin{array}{r}\n",
       "x_{1} \\\\\n",
       "x_{2} \\\\\n",
       "x_{3}\n",
       "\\end{array}\\right) \\left(\\begin{array}{r}\n",
       "12.1824367310437 \\\\\n",
       "-0.213703750559977 \\\\\n",
       "11.5292530077639 \\\\\n",
       "-1.90233832008982\n",
       "\\end{array}\\right)</script></html>"
      ],
      "text/latex": [
       "$$\\newcommand{\\Bold}[1]{\\mathbf{#1}}\\left(\\begin{array}{rrr}\n",
       "7.14142842854285 & -0.980196058819607 & 0.980196058819607 \\\\\n",
       "-3.80272600099546 \\times 10^{-18} & 33.0308827566911 & -0.0617366390506600 \\\\\n",
       "-4.15588427051745 \\times 10^{-17} & 1.99979999282469 \\times 10^{-17} & 5.29484695469786 \\\\\n",
       "-1.02880287285982 \\times 10^{-16} & -2.47446637114472 \\times 10^{-16} & 2.22044604925031 \\times 10^{-16}\n",
       "\\end{array}\\right) \\left(\\begin{array}{r}\n",
       "x_{1} \\\\\n",
       "x_{2} \\\\\n",
       "x_{3}\n",
       "\\end{array}\\right) \\left(\\begin{array}{r}\n",
       "12.1824367310437 \\\\\n",
       "-0.213703750559977 \\\\\n",
       "11.5292530077639 \\\\\n",
       "-1.90233832008982\n",
       "\\end{array}\\right)$$"
      ],
      "text/plain": [
       "[     7.14142842854285    -0.980196058819607     0.980196058819607]\n",
       "[-3.80272600099546e-18      33.0308827566911   -0.0617366390506600]\n",
       "[-4.15588427051745e-17  1.99979999282469e-17      5.29484695469786]\n",
       "[-1.02880287285982e-16 -2.47446637114472e-16  2.22044604925031e-16] [x1]\n",
       "[x2]\n",
       "[x3] [  12.1824367310437]\n",
       "[-0.213703750559977]\n",
       "[  11.5292530077639]\n",
       "[ -1.90233832008982]"
      ]
     },
     "metadata": {},
     "output_type": "display_data"
    }
   ],
   "source": [
    "right_side =  (Q.transpose())*b\n",
    "\n",
    "var('x1', 'x2', 'x3')\n",
    "x = matrix([[x1], [x2], [x3]])\n",
    "\n",
    "\n",
    "\n",
    "\n",
    "print(\"Lado direito do sistema (multiplicação da transposta de Q por b):\")\n",
    "pretty_print(right_side)\n",
    "print(\"\\nSistema completo:\")\n",
    "pretty_print(R, x, right_side)\n"
   ]
  },
  {
   "cell_type": "markdown",
   "metadata": {},
   "source": [
    "**Como a última linha da matriz R é composta apenas por zeros e o último valor do vetor resultante da multiplicação**\n",
    "\n",
    "$$ Q^Tb $$ \n",
    "\n",
    "**é diferente de 0, o sistema é impossível. No entanto, é possível calcular uma aproximação usando o método da substituição para as restantes equações. Essa aproximação tem como objetivo minimizar o valor de** \n",
    "\n",
    "$$\\| Ax - b \\|$$"
   ]
  },
  {
   "cell_type": "code",
   "execution_count": 473,
   "metadata": {},
   "outputs": [],
   "source": [
    "x3 = right_side[2,0]/R[2,2]\n",
    "x2 = (right_side[1,0] - R[1,2]*x3)/R[1,1]\n",
    "x1 = (right_side[0,0] - R[0,2]*x3 - R[0,1]*x2)/R[0,0]\n",
    "x = matrix([[x1],[x2],[x3]])"
   ]
  },
  {
   "cell_type": "code",
   "execution_count": 474,
   "metadata": {},
   "outputs": [
    {
     "name": "stdout",
     "output_type": "stream",
     "text": [
      "Solução aproximada:\n"
     ]
    },
    {
     "data": {
      "text/html": [
       "<html><script type=\"math/tex; mode=display\">\\newcommand{\\Bold}[1]{\\mathbf{#1}}\\left(\\begin{array}{r}\n",
       "1.40668754735656 \\\\\n",
       "-0.00240004000066668 \\\\\n",
       "2.17744782925869\n",
       "\\end{array}\\right)</script></html>"
      ],
      "text/latex": [
       "$$\\newcommand{\\Bold}[1]{\\mathbf{#1}}\\left(\\begin{array}{r}\n",
       "1.40668754735656 \\\\\n",
       "-0.00240004000066668 \\\\\n",
       "2.17744782925869\n",
       "\\end{array}\\right)$$"
      ],
      "text/plain": [
       "[    1.40668754735656]\n",
       "[-0.00240004000066668]\n",
       "[    2.17744782925869]"
      ]
     },
     "metadata": {},
     "output_type": "display_data"
    }
   ],
   "source": [
    "print(\"Solução aproximada:\")\n",
    "pretty_print(x)"
   ]
  },
  {
   "cell_type": "code",
   "execution_count": 475,
   "metadata": {},
   "outputs": [
    {
     "name": "stdout",
     "output_type": "stream",
     "text": [
      "Resultado de Ax e de b:\n"
     ]
    },
    {
     "data": {
      "text/html": [
       "<html><script type=\"math/tex; mode=display\">\\newcommand{\\Bold}[1]{\\mathbf{#1}}\\left(\\begin{array}{r}\n",
       "-0.0792013200220004 \\\\\n",
       "-5.75918316587328 \\\\\n",
       "-9.84921287149658 \\\\\n",
       "-12.2963267336507\n",
       "\\end{array}\\right) \\left(\\begin{array}{r}\n",
       "0 \\\\\n",
       "-4 \\\\\n",
       "-10 \\\\\n",
       "-13\n",
       "\\end{array}\\right)</script></html>"
      ],
      "text/latex": [
       "$$\\newcommand{\\Bold}[1]{\\mathbf{#1}}\\left(\\begin{array}{r}\n",
       "-0.0792013200220004 \\\\\n",
       "-5.75918316587328 \\\\\n",
       "-9.84921287149658 \\\\\n",
       "-12.2963267336507\n",
       "\\end{array}\\right) \\left(\\begin{array}{r}\n",
       "0 \\\\\n",
       "-4 \\\\\n",
       "-10 \\\\\n",
       "-13\n",
       "\\end{array}\\right)$$"
      ],
      "text/plain": [
       "[-0.0792013200220004]\n",
       "[  -5.75918316587328]\n",
       "[  -9.84921287149658]\n",
       "[  -12.2963267336507] [  0]\n",
       "[ -4]\n",
       "[-10]\n",
       "[-13]"
      ]
     },
     "metadata": {},
     "output_type": "display_data"
    }
   ],
   "source": [
    "print(\"Resultado de Ax e de b:\")\n",
    "pretty_print(A*x, b)"
   ]
  },
  {
   "cell_type": "code",
   "execution_count": 476,
   "metadata": {},
   "outputs": [
    {
     "name": "stdout",
     "output_type": "stream",
     "text": [
      "Valor de ||Ax - b||:\n"
     ]
    },
    {
     "data": {
      "text/html": [
       "<html><script type=\"math/tex; mode=display\">\\newcommand{\\Bold}[1]{\\mathbf{#1}}1.902338320089823</script></html>"
      ],
      "text/latex": [
       "$$\\newcommand{\\Bold}[1]{\\mathbf{#1}}1.902338320089823$$"
      ],
      "text/plain": [
       "1.902338320089823"
      ]
     },
     "metadata": {},
     "output_type": "display_data"
    }
   ],
   "source": [
    "import numpy\n",
    "\n",
    "print(\"Valor de ||Ax - b||:\")\n",
    "pretty_print(np.linalg.norm(A*x - b))"
   ]
  }
 ],
 "metadata": {
  "kernelspec": {
   "display_name": "SageMath 9.3",
   "language": "sage",
   "name": "sagemath"
  },
  "language_info": {
   "codemirror_mode": {
    "name": "ipython",
    "version": 3
   },
   "file_extension": ".py",
   "mimetype": "text/x-python",
   "name": "python",
   "nbconvert_exporter": "python",
   "pygments_lexer": "ipython3",
   "version": "3.7.10"
  }
 },
 "nbformat": 4,
 "nbformat_minor": 4
}
